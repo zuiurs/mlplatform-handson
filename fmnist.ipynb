{
  "nbformat": 4,
  "nbformat_minor": 0,
  "metadata": {
    "colab": {
      "name": "NAIST",
      "provenance": []
    },
    "kernelspec": {
      "name": "python3",
      "display_name": "Python 3"
    },
    "language_info": {
      "name": "python"
    }
  },
  "cells": [
    {
      "cell_type": "markdown",
      "metadata": {
        "id": "W-o62XevWWC3"
      },
      "source": [
        "# Fashion-MNIST のモデルを作る\n",
        "\n",
        "https://github.com/zalandoresearch/fashion-mnist"
      ]
    },
    {
      "cell_type": "code",
      "metadata": {
        "id": "rElh9vHfV-_S"
      },
      "source": [
        "import tensorflow as tf\n",
        "from tensorflow import keras\n",
        "import numpy as np"
      ],
      "execution_count": null,
      "outputs": []
    },
    {
      "cell_type": "code",
      "metadata": {
        "id": "hptYRxFZUx9W"
      },
      "source": [
        "# Fashion-MNIST のデータを用意\n",
        "\n",
        "fashion_mnist = keras.datasets.fashion_mnist\n",
        "(train_images, train_labels), (test_images, test_labels) = fashion_mnist.load_data()"
      ],
      "execution_count": null,
      "outputs": []
    },
    {
      "cell_type": "code",
      "metadata": {
        "id": "4ntZ1vyOWNq6"
      },
      "source": [
        "# 前処理\n",
        "\n",
        "train_images = train_images / 255.0\n",
        "test_images = test_images / 255.0\n",
        "\n",
        "train_images = train_images.reshape(train_images.shape[0], 28, 28, 1)\n",
        "test_images = test_images.reshape(test_images.shape[0], 28, 28, 1)"
      ],
      "execution_count": null,
      "outputs": []
    },
    {
      "cell_type": "code",
      "metadata": {
        "id": "P6uxXKgJXW-B"
      },
      "source": [
        "# モデルの用意\n",
        "\n",
        "model = keras.Sequential([\n",
        "    keras.layers.Conv2D(input_shape=(28,28,1), filters=8, kernel_size=3, \n",
        "        strides=2, activation='relu', name='Conv1'),\n",
        "    keras.layers.Flatten(),\n",
        "    keras.layers.Dense(10, activation=tf.nn.softmax, name='Softmax')\n",
        "])\n",
        "\n",
        "model.compile(optimizer='adam',\n",
        "        loss='sparse_categorical_crossentropy',\n",
        "        metrics=['accuracy'])\n",
        "\n",
        "model.summary()\n"
      ],
      "execution_count": null,
      "outputs": []
    },
    {
      "cell_type": "code",
      "metadata": {
        "id": "hMlFRzWBXiNu"
      },
      "source": [
        "# モデルの Fitting\n",
        "\n",
        "model.fit(train_images, train_labels, epochs=5)"
      ],
      "execution_count": null,
      "outputs": []
    },
    {
      "cell_type": "code",
      "metadata": {
        "id": "AGhSAfAqX3gL"
      },
      "source": [
        "# モデルの検証\n",
        "\n",
        "loss, acc = model.evaluate(test_images, test_labels)\n",
        "print(f'Loss: {loss}\\nAccuracy: {acc}')"
      ],
      "execution_count": null,
      "outputs": []
    },
    {
      "cell_type": "code",
      "metadata": {
        "id": "LWZW3CR0YzL_"
      },
      "source": [
        "# 画像を表示するための関数\n",
        "\n",
        "import matplotlib.pyplot as plt\n",
        "\n",
        "def show(image):\n",
        "  plt.figure()\n",
        "  plt.imshow(image)\n",
        "  plt.colorbar()\n",
        "  plt.grid(False)\n",
        "  plt.show()"
      ],
      "execution_count": null,
      "outputs": []
    },
    {
      "cell_type": "code",
      "metadata": {
        "id": "CsP83rrNuOtQ"
      },
      "source": [
        "# 推論・検証\n",
        "\n",
        "class_names = ['T-shirt/top', 'Trouser', 'Pullover', 'Dress', 'Coat',\n",
        "               'Sandal', 'Shirt', 'Sneaker', 'Bag', 'Ankle boot']\n",
        "\n",
        "samples = 5\n",
        "predicted = model.predict(train_images[:samples])\n",
        "for i, p in enumerate(predicted):\n",
        "  print(f'Truth: {class_names[train_labels[i]]}')\n",
        "  print(f'Pred.: {class_names[np.argmax(predicted[i])]}')\n",
        "  show(np.squeeze(train_images[i]))"
      ],
      "execution_count": null,
      "outputs": []
    }
  ]
}